{
 "cells": [
  {
   "cell_type": "markdown",
   "metadata": {},
   "source": [
    "# Assignment 3 - Text Analysis\n",
    "An explanation this assignment could be found in the .pdf explanation document"
   ]
  },
  {
   "cell_type": "markdown",
   "metadata": {},
   "source": [
    "\n",
    "## Materials to review for this assignment\n",
    "<h4>From Moodle:</h4> \n",
    "<h5><u>Review the notebooks regarding the following python topics</u>:</h5>\n",
    "<div class=\"alert alert-info\">\n",
    "&#x2714; <b>Working with strings</b> (tutorial notebook)<br/>\n",
    "&#x2714; <b>Text Analysis</b> (tutorial notebook)<br/>\n",
    "&#x2714; <b>Hebrew text analysis tools (tokenizer, wordnet)</b> (moodle example)<br/>\n",
    "&#x2714; <b>(brief review) All previous notebooks</b><br/>\n",
    "</div> \n",
    "<h5><u>Review the presentations regarding the following topics</u>:</h5>\n",
    "<div class=\"alert alert-info\">\n",
    "&#x2714; <b>Text Analysis</b> (lecture presentation)<br/>\n",
    "&#x2714; <b>(brief review) All other presentations</b><br/>\n",
    "</div>"
   ]
  },
  {
   "cell_type": "markdown",
   "metadata": {},
   "source": [
    "## Personal Details:"
   ]
  },
  {
   "cell_type": "code",
   "execution_count": 1,
   "metadata": {},
   "outputs": [],
   "source": [
    "# Details Student 1:\n",
    "#print(\"Dor Bergel\")\n",
    "# Details Student 2:\n"
   ]
  },
  {
   "cell_type": "markdown",
   "metadata": {},
   "source": [
    "## Preceding Step - import modules (packages)\n",
    "This step is necessary in order to use external modules (packages). <br/>"
   ]
  },
  {
   "cell_type": "code",
   "execution_count": 2,
   "metadata": {},
   "outputs": [],
   "source": [
    "# --------------------------------------\n",
    "import pandas as pd\n",
    "import numpy as np\n",
    "# --------------------------------------\n",
    "\n",
    "\n",
    "# --------------------------------------\n",
    "# ------------- visualizations:\n",
    "import seaborn as sns\n",
    "import matplotlib.pyplot as plt\n",
    "from matplotlib.colors import ListedColormap\n",
    "# --------------------------------------\n",
    "\n",
    "\n",
    "# ---------------------------------------\n",
    "import sklearn\n",
    "from sklearn import preprocessing, metrics, pipeline, model_selection, feature_extraction \n",
    "from sklearn import naive_bayes, linear_model, svm, neural_network, neighbors, tree\n",
    "from sklearn import decomposition, cluster\n",
    "\n",
    "from sklearn.model_selection import train_test_split, cross_val_score, GridSearchCV \n",
    "from sklearn.pipeline import Pipeline\n",
    "from sklearn.metrics import accuracy_score, confusion_matrix\n",
    "from sklearn.metrics import precision_score, recall_score, f1_score\n",
    "from sklearn.metrics import mean_squared_error, r2_score, silhouette_score\n",
    "from sklearn.preprocessing import MinMaxScaler, StandardScaler, LabelEncoder\n",
    "\n",
    "from sklearn.svm import LinearSVC\n",
    "from sklearn.neural_network import MLPClassifier\n",
    "from sklearn.linear_model import Perceptron, SGDClassifier\n",
    "from sklearn.decomposition import PCA\n",
    "from sklearn.cluster import KMeans\n",
    "from sklearn.naive_bayes import MultinomialNB, GaussianNB\n",
    "from sklearn.neighbors import KNeighborsClassifier\n",
    "from sklearn.tree import DecisionTreeClassifier\n",
    "# ---------------------------------------\n",
    "\n",
    "\n",
    "# ----------------- output and visualizations: \n",
    "import warnings\n",
    "from sklearn.exceptions import ConvergenceWarning\n",
    "warnings.simplefilter(\"ignore\")\n",
    "warnings.simplefilter(action='ignore', category=FutureWarning)\n",
    "warnings.simplefilter(\"ignore\", category=ConvergenceWarning)\n",
    "# show several prints in one cell. This will allow us to condence every trick in one cell.\n",
    "from IPython.core.interactiveshell import InteractiveShell\n",
    "InteractiveShell.ast_node_interactivity = \"all\"\n",
    "%matplotlib inline\n",
    "pd.pandas.set_option('display.max_columns', None)\n",
    "pd.set_option('display.float_format', lambda x: '%.3f' % x)\n",
    "# ---------------------------------------"
   ]
  },
  {
   "cell_type": "markdown",
   "metadata": {},
   "source": [
    "### Text analysis and String manipulation imports:"
   ]
  },
  {
   "cell_type": "code",
   "execution_count": 3,
   "metadata": {},
   "outputs": [],
   "source": [
    "# --------------------------------------\n",
    "# --------- Text analysis and Hebrew text analysis imports:\n",
    "# vectorizers:\n",
    "from sklearn.feature_extraction import text\n",
    "from sklearn.feature_extraction.text import CountVectorizer, TfidfVectorizer\n",
    "\n",
    "# regular expressions:\n",
    "import re\n",
    "# --------------------------------------"
   ]
  },
  {
   "cell_type": "markdown",
   "metadata": {},
   "source": [
    "### (optional) Hebrew text analysis - WordNet (for Hebrew)\n",
    "Note: the WordNet is not a must"
   ]
  },
  {
   "cell_type": "markdown",
   "metadata": {},
   "source": [
    "#### (optional) Only if you didn't install Wordnet (for Hebrew) use:"
   ]
  },
  {
   "cell_type": "code",
   "execution_count": 4,
   "metadata": {},
   "outputs": [],
   "source": [
    "# word net installation:\n",
    "\n",
    "# unmark if you want to use and need to install\n",
    "# !pip install wn\n",
    "# !python -m wn download omw-he:1.4"
   ]
  },
  {
   "cell_type": "code",
   "execution_count": 5,
   "metadata": {},
   "outputs": [],
   "source": [
    "# word net import:\n",
    "\n",
    "# unmark if you want to use:\n",
    "import wn"
   ]
  },
  {
   "cell_type": "markdown",
   "metadata": {},
   "source": [
    "### (optional) Hebrew text analysis - hebrew_tokenizer (Tokenizer for Hebrew)\n",
    "Note: the hebrew_tokenizer is not a must"
   ]
  },
  {
   "cell_type": "markdown",
   "metadata": {},
   "source": [
    "#### (optional) Only if you didn't install hebrew_tokenizer use:"
   ]
  },
  {
   "cell_type": "code",
   "execution_count": 6,
   "metadata": {},
   "outputs": [],
   "source": [
    "# Hebrew tokenizer installation:\n",
    "\n",
    "# unmark if you want to use and need to install:\n",
    "# !pip install hebrew_tokenizer"
   ]
  },
  {
   "cell_type": "code",
   "execution_count": 7,
   "metadata": {},
   "outputs": [],
   "source": [
    "# Hebrew tokenizer import:\n",
    "\n",
    "# unmark if you want to use:\n",
    "# import hebrew_tokenizer as ht"
   ]
  },
  {
   "cell_type": "markdown",
   "metadata": {},
   "source": [
    "### Reading input files\n",
    "Reading input files for train annotated corpus (raw text data) corpus and for the test corpus"
   ]
  },
  {
   "cell_type": "code",
   "execution_count": 8,
   "metadata": {},
   "outputs": [],
   "source": [
    "train_filename = 'annotated_corpus_for_train.csv'\n",
    "test_filename  = 'corpus_for_test.csv'\n",
    "df_train = pd.read_csv(train_filename, index_col=None, encoding='utf-8')\n",
    "df_test  = pd.read_csv(test_filename, index_col=None, encoding='utf-8')"
   ]
  },
  {
   "cell_type": "code",
   "execution_count": 9,
   "metadata": {},
   "outputs": [
    {
     "data": {
      "text/html": [
       "<div>\n",
       "<style scoped>\n",
       "    .dataframe tbody tr th:only-of-type {\n",
       "        vertical-align: middle;\n",
       "    }\n",
       "\n",
       "    .dataframe tbody tr th {\n",
       "        vertical-align: top;\n",
       "    }\n",
       "\n",
       "    .dataframe thead th {\n",
       "        text-align: right;\n",
       "    }\n",
       "</style>\n",
       "<table border=\"1\" class=\"dataframe\">\n",
       "  <thead>\n",
       "    <tr style=\"text-align: right;\">\n",
       "      <th></th>\n",
       "      <th>story</th>\n",
       "      <th>gender</th>\n",
       "    </tr>\n",
       "  </thead>\n",
       "  <tbody>\n",
       "    <tr>\n",
       "      <th>0</th>\n",
       "      <td>כשחבר הזמין אותי לחול, לא באמת חשבתי שזה יקרה,...</td>\n",
       "      <td>m</td>\n",
       "    </tr>\n",
       "    <tr>\n",
       "      <th>1</th>\n",
       "      <td>לפני שהתגייסתי לצבא עשיתי כל מני מיונים ליחידו...</td>\n",
       "      <td>m</td>\n",
       "    </tr>\n",
       "    <tr>\n",
       "      <th>2</th>\n",
       "      <td>מאז שהתחילו הלימודים חלומו של כל סטודנט זה הפנ...</td>\n",
       "      <td>f</td>\n",
       "    </tr>\n",
       "    <tr>\n",
       "      <th>3</th>\n",
       "      <td>כשהייתי ילד, מטוסים היה הדבר שהכי ריתק אותי. ב...</td>\n",
       "      <td>m</td>\n",
       "    </tr>\n",
       "    <tr>\n",
       "      <th>4</th>\n",
       "      <td>‏הייתי מדריכה בכפר נוער ומתאם הכפר היינו צריכי...</td>\n",
       "      <td>f</td>\n",
       "    </tr>\n",
       "    <tr>\n",
       "      <th>5</th>\n",
       "      <td>לפני כ3 חודשים טסתי לרומא למשך שבוע. טסתי במטו...</td>\n",
       "      <td>f</td>\n",
       "    </tr>\n",
       "    <tr>\n",
       "      <th>6</th>\n",
       "      <td>אני כבר שנתיים נשוי והשנה אני ואישתי סוף סוף י...</td>\n",
       "      <td>m</td>\n",
       "    </tr>\n",
       "    <tr>\n",
       "      <th>7</th>\n",
       "      <td>השנה התחלנו שיפוץ בדירה שלנו בתל אביב. הדירה ה...</td>\n",
       "      <td>f</td>\n",
       "    </tr>\n",
       "  </tbody>\n",
       "</table>\n",
       "</div>"
      ],
      "text/plain": [
       "                                               story gender\n",
       "0  כשחבר הזמין אותי לחול, לא באמת חשבתי שזה יקרה,...      m\n",
       "1  לפני שהתגייסתי לצבא עשיתי כל מני מיונים ליחידו...      m\n",
       "2  מאז שהתחילו הלימודים חלומו של כל סטודנט זה הפנ...      f\n",
       "3  כשהייתי ילד, מטוסים היה הדבר שהכי ריתק אותי. ב...      m\n",
       "4  ‏הייתי מדריכה בכפר נוער ומתאם הכפר היינו צריכי...      f\n",
       "5  לפני כ3 חודשים טסתי לרומא למשך שבוע. טסתי במטו...      f\n",
       "6  אני כבר שנתיים נשוי והשנה אני ואישתי סוף סוף י...      m\n",
       "7  השנה התחלנו שיפוץ בדירה שלנו בתל אביב. הדירה ה...      f"
      ]
     },
     "execution_count": 9,
     "metadata": {},
     "output_type": "execute_result"
    },
    {
     "data": {
      "text/plain": [
       "(753, 2)"
      ]
     },
     "execution_count": 9,
     "metadata": {},
     "output_type": "execute_result"
    }
   ],
   "source": [
    "df_train.head(8)\n",
    "df_train.shape"
   ]
  },
  {
   "cell_type": "code",
   "execution_count": 10,
   "metadata": {},
   "outputs": [
    {
     "data": {
      "text/html": [
       "<div>\n",
       "<style scoped>\n",
       "    .dataframe tbody tr th:only-of-type {\n",
       "        vertical-align: middle;\n",
       "    }\n",
       "\n",
       "    .dataframe tbody tr th {\n",
       "        vertical-align: top;\n",
       "    }\n",
       "\n",
       "    .dataframe thead th {\n",
       "        text-align: right;\n",
       "    }\n",
       "</style>\n",
       "<table border=\"1\" class=\"dataframe\">\n",
       "  <thead>\n",
       "    <tr style=\"text-align: right;\">\n",
       "      <th></th>\n",
       "      <th>test_example_id</th>\n",
       "      <th>story</th>\n",
       "    </tr>\n",
       "  </thead>\n",
       "  <tbody>\n",
       "    <tr>\n",
       "      <th>0</th>\n",
       "      <td>0</td>\n",
       "      <td>כל קיץ אני והמשפחה נוסעים לארצות הברית לוס אנג...</td>\n",
       "    </tr>\n",
       "    <tr>\n",
       "      <th>1</th>\n",
       "      <td>1</td>\n",
       "      <td>הגעתי לשירות המדינה אחרי שנתיים כפעיל בתנועת \"...</td>\n",
       "    </tr>\n",
       "    <tr>\n",
       "      <th>2</th>\n",
       "      <td>2</td>\n",
       "      <td>אחת האהבות הגדולות שלי אלו הכלבים שלי ושל אישת...</td>\n",
       "    </tr>\n",
       "  </tbody>\n",
       "</table>\n",
       "</div>"
      ],
      "text/plain": [
       "   test_example_id                                              story\n",
       "0                0  כל קיץ אני והמשפחה נוסעים לארצות הברית לוס אנג...\n",
       "1                1  הגעתי לשירות המדינה אחרי שנתיים כפעיל בתנועת \"...\n",
       "2                2  אחת האהבות הגדולות שלי אלו הכלבים שלי ושל אישת..."
      ]
     },
     "execution_count": 10,
     "metadata": {},
     "output_type": "execute_result"
    },
    {
     "data": {
      "text/plain": [
       "(323, 2)"
      ]
     },
     "execution_count": 10,
     "metadata": {},
     "output_type": "execute_result"
    }
   ],
   "source": [
    "df_test.head(3)\n",
    "df_test.shape"
   ]
  },
  {
   "cell_type": "markdown",
   "metadata": {},
   "source": [
    "### Your implementation:\n",
    "Write your code solution in the following code-cells"
   ]
  },
  {
   "cell_type": "code",
   "execution_count": 11,
   "metadata": {},
   "outputs": [],
   "source": [
    "from sklearn.linear_model import LogisticRegression"
   ]
  },
  {
   "cell_type": "code",
   "execution_count": 12,
   "metadata": {},
   "outputs": [],
   "source": [
    "vectorizers_lst = [(CountVectorizer, {'min_df' : 5, 'max_df' : 1.0, 'ngram_range' : (1, 3)}),\n",
    "                   (TfidfVectorizer, {'min_df' : 5, 'max_df' : 1.0, 'ngram_range' : (1, 3)}),\n",
    "                   (CountVectorizer, {'min_df' : 0.01, 'max_df' : 0.99, 'ngram_range' : (1, 2), 'max_features' : 30000}),\n",
    "                   (TfidfVectorizer, {'min_df' : 0.01, 'max_df' : 0.99, 'ngram_range' : (1, 2), 'max_features' : 30000})]\n",
    "models = [KNeighborsClassifier(), GaussianNB(), LogisticRegression()]\n",
    "models_param_lst = [{'n_neighbors' : [3, 5, 7, 9, 11]},\n",
    "                  {},\n",
    "                  {'penalty': ['l1', 'l2'], 'C': [0.01, 0.1, 1.0, 10.0, 100.0], 'solver': ['lbfgs', 'newton-cg', 'liblinear'], 'class_weight': [{0: 1, 1: 1}, {0: 1, 1: 3}, {0: 1, 1: 5}], 'random_state': [41, 42]}]"
   ]
  },
  {
   "cell_type": "markdown",
   "metadata": {},
   "source": [
    "<hr>\n",
    "<b>Preprocessing</b>\n",
    "\n",
    "This function get dataframe and just clean it from signs and english expressions like (OMG, LOL, etc...).<br/>\n",
    "<u>Input</u>: dataframe with [story, gender] columns <br/>\n",
    "<u>Output</u>: processed dataframe <br/>"
   ]
  },
  {
   "cell_type": "code",
   "execution_count": 13,
   "metadata": {},
   "outputs": [],
   "source": [
    "def preprocessing(df_train):\n",
    "\n",
    "    stories_lst = list(df_train.story)\n",
    "    \n",
    "    for i in range(len(stories_lst)):\n",
    "        story = \"\"\n",
    "        #print(f\"DEBUG preprocessing ==> before cleaning story:\\n{stories_lst[i]}\")\n",
    "        \n",
    "        for letter in stories_lst[i]:\n",
    "            if letter == ' ' or (letter >= 'א' and letter <= 'ת'):\n",
    "                story += letter\n",
    "        \n",
    "        #print(f\"DEBUG preprocessing ==> after cleaning story:\\n{story}\")\n",
    "        #print(\"----------------------------------------------------------------------\")\n",
    "        stories_lst[i] = story\n",
    "    \n",
    "    df_train.story = stories_lst\n",
    "    return df_train"
   ]
  },
  {
   "cell_type": "markdown",
   "metadata": {},
   "source": [
    "<hr>\n",
    "<b>Vectorization</b>\n",
    "\n",
    "This function get vectorizer model, processed data column and target value column, vectorize the data by tokens and categorized the target value to numeric values. <br/>\n",
    "<u>Input</u>: vectorizer model, processed story column,  target values column<br/>\n",
    "<u>Output</u>: X dataframe, numeric target column (male=1, female=0), numeric target column (male=0, female=1)<br/>"
   ]
  },
  {
   "cell_type": "code",
   "execution_count": 14,
   "metadata": {},
   "outputs": [],
   "source": [
    "def vectorization(vectorizer, data, res_col):\n",
    "    \n",
    "    cols = vectorizer.get_feature_names_out()\n",
    "    \n",
    "    X_train = pd.DataFrame(data.toarray(), columns=cols)\n",
    "\n",
    "    y_male = np.where(res_col == 'm', 1, 0)\n",
    "    y_female = np.where(res_col == 'f', 1, 0)\n",
    "    \n",
    "    \n",
    "    #print(f\"DEBUG vectorization ==> X_train:\\n{X_train}\")\n",
    "    #print(\"----------------------------------------------------------------------\")\n",
    "    return X_train, y_male, y_female"
   ]
  },
  {
   "cell_type": "markdown",
   "metadata": {},
   "source": [
    "<hr>\n",
    "<b>Get f1 Score</b>\n",
    "\n",
    "This function get learning model, the best params he got in grid search (main function) and data splited by X and y, train the model by this data (also with cross validation and return the f1 score and the trained model <br/>\n",
    "<u>Input</u>: model constructor, model's best parameters and X y data<br/>\n",
    "<u>Output</u>: f1 score and trained model<br/>"
   ]
  },
  {
   "cell_type": "code",
   "execution_count": 15,
   "metadata": {},
   "outputs": [],
   "source": [
    "def get_f1_score(model_name, best_parameters, X_train, y_train):\n",
    "    \n",
    "    model = model_name\n",
    "    model.set_params(**best_parameters)\n",
    "    model.fit(X_train, y_train)\n",
    "    \n",
    "    score = cross_val_score(model, X=X_train, y=y_train, scoring='f1', cv=10).mean()\n",
    "    \n",
    "    #print(f\"DEBUG get_f1_score ==> model_name: {model}\")\n",
    "    #print(f\"DEBUG get_f1_score ==> best_params: {best_parameters}\")\n",
    "    #print(f\"DEBUG get_f1_score ==> score: {score}\")\n",
    "    \n",
    "    return score, model"
   ]
  },
  {
   "cell_type": "markdown",
   "metadata": {},
   "source": [
    "<hr>\n",
    "<b>Predict Df</b>\n",
    "\n",
    "This function get vectorizer, trained model, model's best paramaters, test df and gender, and running all the full process on the test df.<br/>\n",
    "preprocessing -> vectorizing -> predict<br/>\n",
    "\n",
    "<u>Input</u>: vectorizer, trained model, model's best paramaters, test df and gender<br/>\n",
    "<u>Output</u>: Data frame with the result<br/>"
   ]
  },
  {
   "cell_type": "code",
   "execution_count": 16,
   "metadata": {},
   "outputs": [],
   "source": [
    "def predict_df(vectorizer, model, model_params, df_test, gender):\n",
    "    df = preprocessing(df_test)\n",
    "    \n",
    "    vec = vectorizer.transform(df_test[\"story\"])\n",
    "    \n",
    "    X_test = pd.DataFrame(vec.toarray(), columns=vectorizer.get_feature_names_out())\n",
    "    \n",
    "    y_pred = model.predict(X_test)\n",
    "    \n",
    "    if gender == 'm':\n",
    "        prediction_list = np.where(y_pred == 1, 'm', 'f')\n",
    "    \n",
    "    else:\n",
    "        prediction_list = np.where(y_pred == 0, 'm', 'f')\n",
    "    \n",
    "    res_df = df_test.copy()\n",
    "    res_df[\"gender\"] = prediction_list\n",
    "    \n",
    "    return res_df"
   ]
  },
  {
   "cell_type": "markdown",
   "metadata": {},
   "source": [
    "<hr>\n",
    "<b>Main</b>"
   ]
  },
  {
   "cell_type": "code",
   "execution_count": 17,
   "metadata": {},
   "outputs": [
    {
     "name": "stdout",
     "output_type": "stream",
     "text": [
      "DEBUG main ==> start <class 'sklearn.feature_extraction.text.CountVectorizer'> vectorizer\n",
      "DEBUG main ==> model: KNeighborsClassifier()\n",
      "::::::::::::::::::::::::::::::::::::::::::::::::::::::::::::::::::::::::::\n",
      "DEBUG main ==> model: GaussianNB()\n",
      "::::::::::::::::::::::::::::::::::::::::::::::::::::::::::::::::::::::::::\n",
      "DEBUG main ==> model: LogisticRegression()\n",
      "---------------------------------------Good model found------------------------------------------\n",
      "DEBUG main ==> model_chose: LogisticRegression(C=0.01, class_weight={0: 1, 1: 5}, random_state=41)\n",
      "DEBUG main ==> best_male_parameters: {'C': 100.0, 'class_weight': {0: 1, 1: 5}, 'penalty': 'l2', 'random_state': 41, 'solver': 'newton-cg'}\n",
      "DEBUG main ==> best_female_parameters: {'C': 0.01, 'class_weight': {0: 1, 1: 5}, 'penalty': 'l2', 'random_state': 41, 'solver': 'lbfgs'}\n",
      "DEBUG main ==> male_score: 0.8816719975399602\n",
      "DEBUG main ==> female_score: 0.5638827893741348\n",
      "DEBUG main ==> avg_score: 0.7227773934570475\n",
      "::::::::::::::::::::::::::::::::::::::::::::::::::::::::::::::::::::::::::\n",
      "DEBUG main ==> start <class 'sklearn.feature_extraction.text.TfidfVectorizer'> vectorizer\n",
      "DEBUG main ==> model: KNeighborsClassifier(n_neighbors=3)\n",
      "::::::::::::::::::::::::::::::::::::::::::::::::::::::::::::::::::::::::::\n",
      "DEBUG main ==> model: GaussianNB()\n",
      "::::::::::::::::::::::::::::::::::::::::::::::::::::::::::::::::::::::::::\n",
      "DEBUG main ==> model: LogisticRegression(C=0.01, class_weight={0: 1, 1: 5}, random_state=41)\n",
      "---------------------------------------Good model found------------------------------------------\n",
      "DEBUG main ==> model_chose: LogisticRegression(class_weight={0: 1, 1: 5}, random_state=41)\n",
      "DEBUG main ==> best_male_parameters: {'C': 100.0, 'class_weight': {0: 1, 1: 1}, 'penalty': 'l2', 'random_state': 41, 'solver': 'lbfgs'}\n",
      "DEBUG main ==> best_female_parameters: {'C': 1.0, 'class_weight': {0: 1, 1: 5}, 'penalty': 'l2', 'random_state': 41, 'solver': 'lbfgs'}\n",
      "DEBUG main ==> male_score: 0.8875642653660718\n",
      "DEBUG main ==> female_score: 0.5809867719736751\n",
      "DEBUG main ==> avg_score: 0.7342755186698735\n",
      "::::::::::::::::::::::::::::::::::::::::::::::::::::::::::::::::::::::::::\n",
      "DEBUG main ==> start <class 'sklearn.feature_extraction.text.CountVectorizer'> vectorizer\n",
      "DEBUG main ==> model: KNeighborsClassifier(n_neighbors=3)\n",
      "::::::::::::::::::::::::::::::::::::::::::::::::::::::::::::::::::::::::::\n",
      "DEBUG main ==> model: GaussianNB()\n",
      "::::::::::::::::::::::::::::::::::::::::::::::::::::::::::::::::::::::::::\n",
      "DEBUG main ==> model: LogisticRegression(class_weight={0: 1, 1: 5}, random_state=41)\n",
      "---------------------------------------Good model found------------------------------------------\n",
      "DEBUG main ==> model_chose: LogisticRegression(C=0.01, class_weight={0: 1, 1: 3}, random_state=41,\n",
      "                   solver='liblinear')\n",
      "DEBUG main ==> best_male_parameters: {'C': 10.0, 'class_weight': {0: 1, 1: 3}, 'penalty': 'l2', 'random_state': 41, 'solver': 'newton-cg'}\n",
      "DEBUG main ==> best_female_parameters: {'C': 0.01, 'class_weight': {0: 1, 1: 3}, 'penalty': 'l2', 'random_state': 41, 'solver': 'liblinear'}\n",
      "DEBUG main ==> male_score: 0.8789590649737619\n",
      "DEBUG main ==> female_score: 0.5552161216386937\n",
      "DEBUG main ==> avg_score: 0.7170875933062277\n",
      "::::::::::::::::::::::::::::::::::::::::::::::::::::::::::::::::::::::::::\n",
      "DEBUG main ==> start <class 'sklearn.feature_extraction.text.TfidfVectorizer'> vectorizer\n",
      "DEBUG main ==> model: KNeighborsClassifier(n_neighbors=3)\n",
      "::::::::::::::::::::::::::::::::::::::::::::::::::::::::::::::::::::::::::\n",
      "DEBUG main ==> model: GaussianNB()\n",
      "::::::::::::::::::::::::::::::::::::::::::::::::::::::::::::::::::::::::::\n",
      "DEBUG main ==> model: LogisticRegression(C=0.01, class_weight={0: 1, 1: 3}, random_state=41,\n",
      "                   solver='liblinear')\n",
      "---------------------------------------Good model found------------------------------------------\n",
      "DEBUG main ==> model_chose: LogisticRegression(class_weight={0: 1, 1: 5}, random_state=41,\n",
      "                   solver='liblinear')\n",
      "DEBUG main ==> best_male_parameters: {'C': 100.0, 'class_weight': {0: 1, 1: 1}, 'penalty': 'l2', 'random_state': 41, 'solver': 'lbfgs'}\n",
      "DEBUG main ==> best_female_parameters: {'C': 1.0, 'class_weight': {0: 1, 1: 5}, 'penalty': 'l2', 'random_state': 41, 'solver': 'liblinear'}\n",
      "DEBUG main ==> male_score: 0.8894728432904733\n",
      "DEBUG main ==> female_score: 0.5771965824904864\n",
      "DEBUG main ==> avg_score: 0.7333347128904799\n",
      "::::::::::::::::::::::::::::::::::::::::::::::::::::::::::::::::::::::::::\n",
      "{'f1_avg': 0.7342755186698735, 'female_pred': 0      m\n",
      "1      m\n",
      "2      m\n",
      "3      m\n",
      "4      f\n",
      "      ..\n",
      "318    m\n",
      "319    m\n",
      "320    m\n",
      "321    m\n",
      "322    m\n",
      "Name: gender, Length: 323, dtype: object, 'man_pred': 0      f\n",
      "1      f\n",
      "2      f\n",
      "3      f\n",
      "4      m\n",
      "      ..\n",
      "318    f\n",
      "319    f\n",
      "320    f\n",
      "321    f\n",
      "322    f\n",
      "Name: gender, Length: 323, dtype: object, 'trained_male': LogisticRegression(class_weight={0: 1, 1: 5}, random_state=41,\n",
      "                   solver='liblinear'), 'trained_female': LogisticRegression(class_weight={0: 1, 1: 5}, random_state=41,\n",
      "                   solver='liblinear'), 'best_male_params': {'C': 100.0, 'class_weight': {0: 1, 1: 1}, 'penalty': 'l2', 'random_state': 41, 'solver': 'lbfgs'}, 'best_female_params': {'C': 1.0, 'class_weight': {0: 1, 1: 5}, 'penalty': 'l2', 'random_state': 41, 'solver': 'lbfgs'}, 'vectorizer': <class 'sklearn.feature_extraction.text.TfidfVectorizer'>, 'vectorizer_params': {'min_df': 5, 'max_df': 1.0, 'ngram_range': (1, 3)}}\n"
     ]
    }
   ],
   "source": [
    "all_models_combinations = []\n",
    "\n",
    "for vectorizer_cls, v_params in vectorizers_lst:\n",
    "    print(f\"DEBUG main ==> start {str(vectorizer_cls)} vectorizer\")\n",
    "    \n",
    "    for model_i in range(len(models)):\n",
    "        print(f\"DEBUG main ==> model: {models[model_i]}\")\n",
    "        \n",
    "        df_train = preprocessing(df_train)\n",
    "        \n",
    "        vectorizer = vectorizer_cls(**v_params)\n",
    "        vectorized_data = vectorizer.fit_transform(df_train.story)\n",
    "        \n",
    "        X, y_male, y_female = vectorization(vectorizer, vectorized_data, df_train.gender)\n",
    "        \n",
    "        grid_search_model = GridSearchCV(models[model_i], models_param_lst[model_i], cv=10, scoring='f1')\n",
    "        grid_search_res_male = grid_search_model.fit(X.copy(), y_male)\n",
    "        \n",
    "        grid_search_model = GridSearchCV(models[model_i], models_param_lst[model_i], cv=10, scoring='f1')\n",
    "        grid_search_res_female = grid_search_model.fit(X.copy(), y_female)\n",
    "        \n",
    "        f1_male_score, male_trained_model = get_f1_score(models[model_i], grid_search_res_male.best_params_, X, y_male)\n",
    "        f1_female_score, female_trained_model = get_f1_score(models[model_i], grid_search_res_female.best_params_, X, y_female)\n",
    "        \n",
    "        f1_avg_score = (f1_male_score + f1_female_score)/2\n",
    "        \n",
    "        if f1_avg_score > 0.60:\n",
    "            print(\"---------------------------------------Good model found------------------------------------------\")\n",
    "            print(f\"DEBUG main ==> model_chose: {models[model_i]}\")\n",
    "            print(f\"DEBUG main ==> best_male_parameters: {grid_search_res_male.best_params_}\")\n",
    "            print(f\"DEBUG main ==> best_female_parameters: {grid_search_res_female.best_params_}\")\n",
    "            print(f\"DEBUG main ==> male_score: {f1_male_score}\")\n",
    "            print(f\"DEBUG main ==> female_score: {f1_female_score}\")\n",
    "            print(f\"DEBUG main ==> avg_score: {f1_avg_score}\")\n",
    "            \n",
    "            df_male = predict_df(vectorizer, male_trained_model, grid_search_res_male.best_params_, df_test, 'm')\n",
    "            df_female = predict_df(vectorizer, female_trained_model, grid_search_res_male.best_params_, df_test, 'f')\n",
    "\n",
    "\n",
    "            all_models_combinations.append({\"f1_avg\":f1_avg_score, \"female_pred\":df_female.gender, \"man_pred\":df_male.gender, \"trained_male\":male_trained_model,\n",
    "                               \"trained_female\":female_trained_model, \"best_male_params\":grid_search_res_male.best_params_,\n",
    "                               \"best_female_params\":grid_search_res_female.best_params_, \"vectorizer\":vectorizer_cls, \"vectorizer_params\": v_params})\n",
    "        \n",
    "        print(\"::::::::::::::::::::::::::::::::::::::::::::::::::::::::::::::::::::::::::\")\n",
    "\n",
    "max_score = 0\n",
    "\n",
    "for model in all_models_combinations:\n",
    "    if model[\"f1_avg\"] > max_score:\n",
    "        max_score = model[\"f1_avg\"]\n",
    "\n",
    "for model in all_models_combinations:\n",
    "    if model[\"f1_avg\"] == max_score:\n",
    "        print(model)"
   ]
  },
  {
   "cell_type": "code",
   "execution_count": null,
   "metadata": {},
   "outputs": [],
   "source": []
  }
 ],
 "metadata": {
  "celltoolbar": "Create Assignment",
  "kernelspec": {
   "display_name": "Python 3 (ipykernel)",
   "language": "python",
   "name": "python3"
  },
  "language_info": {
   "codemirror_mode": {
    "name": "ipython",
    "version": 3
   },
   "file_extension": ".py",
   "mimetype": "text/x-python",
   "name": "python",
   "nbconvert_exporter": "python",
   "pygments_lexer": "ipython3",
   "version": "3.11.1"
  }
 },
 "nbformat": 4,
 "nbformat_minor": 4
}
